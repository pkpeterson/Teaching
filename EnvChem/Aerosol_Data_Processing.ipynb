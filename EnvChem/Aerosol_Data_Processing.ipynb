{
  "cells": [
    {
      "cell_type": "markdown",
      "id": "0aae2cc2",
      "metadata": {
        "id": "0aae2cc2"
      },
      "source": [
        "# Analysis of Local Aerosol Datasests\n",
        "\n",
        "Goal: Continue building our familiarity with atmospheric datasets and how they can be used to examine research questions in atmospheric chemistry.\n",
        "We will be continuing our exploration of data available via the EPA's Air Quality Data system and utilizing it to explore variability in PM2.5 and other aerosol measurements over the past year. This lab will also serve as your introuction to remote sensing, by utilizing AERONET data collected on the roof of the building. The results will contribute to your first lab report.\n",
        "\n",
        "As always the first cell imports libraries, you will have to run the first cell twice, once to install pyrsig, and again to import the newly installed library after restarting the kernel. If you prefer you can download the notebook as a .py and run it locally on your machine."
      ]
    },
    {
      "cell_type": "code",
      "execution_count": 1,
      "id": "eaef6341",
      "metadata": {
        "colab": {
          "base_uri": "https://localhost:8080/"
        },
        "id": "eaef6341",
        "outputId": "92e8a9aa-65e8-4d19-c9d0-b9e404dbd6de"
      },
      "outputs": [
        {
          "output_type": "stream",
          "name": "stdout",
          "text": [
            "Requirement already satisfied: pyrsig in /root/.local/lib/python3.10/site-packages (0.7.0)\n",
            "Requirement already satisfied: pycno in /root/.local/lib/python3.10/site-packages (0.3.0)\n",
            "Requirement already satisfied: pyproj in /usr/local/lib/python3.10/dist-packages (3.6.1)\n",
            "Requirement already satisfied: netcdf4 in /root/.local/lib/python3.10/site-packages (1.6.5)\n",
            "Requirement already satisfied: pandas in /usr/local/lib/python3.10/dist-packages (from pyrsig) (1.5.3)\n",
            "Requirement already satisfied: xarray in /usr/local/lib/python3.10/dist-packages (from pyrsig) (2023.7.0)\n",
            "Requirement already satisfied: requests in /usr/local/lib/python3.10/dist-packages (from pyrsig) (2.31.0)\n",
            "Requirement already satisfied: numpy in /usr/local/lib/python3.10/dist-packages (from pycno) (1.25.2)\n",
            "Requirement already satisfied: matplotlib in /usr/local/lib/python3.10/dist-packages (from pycno) (3.7.1)\n",
            "Requirement already satisfied: certifi in /usr/local/lib/python3.10/dist-packages (from pyproj) (2024.2.2)\n",
            "Requirement already satisfied: cftime in /root/.local/lib/python3.10/site-packages (from netcdf4) (1.6.3)\n",
            "Requirement already satisfied: contourpy>=1.0.1 in /usr/local/lib/python3.10/dist-packages (from matplotlib->pycno) (1.2.0)\n",
            "Requirement already satisfied: cycler>=0.10 in /usr/local/lib/python3.10/dist-packages (from matplotlib->pycno) (0.12.1)\n",
            "Requirement already satisfied: fonttools>=4.22.0 in /usr/local/lib/python3.10/dist-packages (from matplotlib->pycno) (4.48.1)\n",
            "Requirement already satisfied: kiwisolver>=1.0.1 in /usr/local/lib/python3.10/dist-packages (from matplotlib->pycno) (1.4.5)\n",
            "Requirement already satisfied: packaging>=20.0 in /usr/local/lib/python3.10/dist-packages (from matplotlib->pycno) (23.2)\n",
            "Requirement already satisfied: pillow>=6.2.0 in /usr/local/lib/python3.10/dist-packages (from matplotlib->pycno) (9.4.0)\n",
            "Requirement already satisfied: pyparsing>=2.3.1 in /usr/local/lib/python3.10/dist-packages (from matplotlib->pycno) (3.1.1)\n",
            "Requirement already satisfied: python-dateutil>=2.7 in /usr/local/lib/python3.10/dist-packages (from matplotlib->pycno) (2.8.2)\n",
            "Requirement already satisfied: pytz>=2020.1 in /usr/local/lib/python3.10/dist-packages (from pandas->pyrsig) (2023.4)\n",
            "Requirement already satisfied: charset-normalizer<4,>=2 in /usr/local/lib/python3.10/dist-packages (from requests->pyrsig) (3.3.2)\n",
            "Requirement already satisfied: idna<4,>=2.5 in /usr/local/lib/python3.10/dist-packages (from requests->pyrsig) (3.6)\n",
            "Requirement already satisfied: urllib3<3,>=1.21.1 in /usr/local/lib/python3.10/dist-packages (from requests->pyrsig) (2.0.7)\n",
            "Requirement already satisfied: six>=1.5 in /usr/local/lib/python3.10/dist-packages (from python-dateutil>=2.7->matplotlib->pycno) (1.16.0)\n"
          ]
        }
      ],
      "source": [
        "%matplotlib inline\n",
        "%pip install --user pyrsig pycno pyproj netcdf4\n",
        "\n",
        "import numpy as np\n",
        "import matplotlib.pyplot as plt\n",
        "import pandas as pd\n",
        "from scipy import stats\n",
        "import datetime as dt\n",
        "from dateutil.parser import parse\n",
        "import pyrsig\n",
        "from bs4 import BeautifulSoup      #reads data from website (web scraping)\n",
        "import requests                    #useful for sending HTTP requests"
      ]
    },
    {
      "cell_type": "markdown",
      "id": "d9a03889",
      "metadata": {
        "id": "d9a03889"
      },
      "source": [
        "First we will construct an RSIG query to load PM2.5 data from sites in the Los Angeles area over 2023."
      ]
    },
    {
      "cell_type": "code",
      "execution_count": 2,
      "id": "06b77c9f",
      "metadata": {
        "colab": {
          "base_uri": "https://localhost:8080/"
        },
        "id": "06b77c9f",
        "outputId": "28687971-1295-4aea-c6b7-b866787781ec"
      },
      "outputs": [
        {
          "output_type": "stream",
          "name": "stdout",
          "text": [
            "['airnow.pm25', 'airnow2.pm25', 'aqs.pm25', 'aqs.pm25_daily_average', 'aqs.pm25_daily_filter', 'metar.snowCovernesdis.pm25', 'purpleair.pm25_corrected', 'purpleair.pm25_corrected_hourly', 'purpleair.pm25_corrected_daily', 'purpleair.pm25_corrected_monthly', 'purpleair.pm25_corrected_yearly']\n"
          ]
        }
      ],
      "source": [
        "rsigapi = pyrsig.RsigApi(\n",
        "    bdate='2023-01-01', edate='2023-12-31',\n",
        "    bbox=(-119, 33, -117, 35)\n",
        ")\n",
        "\n",
        "# # This list all available datasets!\n",
        "# print([k for k in rsigapi.keys()])\n",
        "\n",
        "# list available datasets for a specific parameter\n",
        "print([k for k in rsigapi.keys() if 'pm25' in k])\n",
        "# Exract the desired values to a data frame\n",
        "df = rsigapi.to_dataframe('aqs.pm25',parse_dates=True, unit_keys=False)"
      ]
    },
    {
      "cell_type": "markdown",
      "id": "64f7ab33",
      "metadata": {
        "id": "64f7ab33"
      },
      "source": [
        "Next, we will need to examine the available sites, and extract the desired sites to individual data frames. You will pick three sites to compare and modify the code cell below to extract them to their own dataframes for further analysis."
      ]
    },
    {
      "cell_type": "code",
      "execution_count": 3,
      "id": "208237d2",
      "metadata": {
        "id": "208237d2"
      },
      "outputs": [],
      "source": [
        "#list all sites\n",
        "df.SITE_NAME.unique()\n",
        "# Code to extract specific site to a data frame\n",
        "anaheim=df[df.SITE_NAME.str.strip()=='Anaheim']"
      ]
    },
    {
      "cell_type": "markdown",
      "id": "fe65a126",
      "metadata": {
        "id": "fe65a126"
      },
      "source": [
        "Using the techniques we learned in the previous labs, plot the data from your chosen sites and compare the data from the three sites. Questions to ponder:\n",
        "\n",
        "    1. How does PM2.5 at each site compare? Compare with both other sites and the current NAAQS for PM2.5\n",
        "    2. Are there time periods that jump out at you? What are some potential causes for elevated readings?\n",
        "    3. Is there a seasonality to PM2.5? Does this vary between sites?"
      ]
    },
    {
      "cell_type": "code",
      "execution_count": null,
      "id": "3bd51d7c",
      "metadata": {
        "id": "3bd51d7c"
      },
      "outputs": [],
      "source": []
    },
    {
      "cell_type": "markdown",
      "id": "4049f858",
      "metadata": {
        "id": "4049f858"
      },
      "source": [
        "Next we will move to examing data from AERONET. More about this network can be found here : https://aeronet.gsfc.nasa.gov/new_web/index.html\n",
        "\n",
        "In contrast with the in situ measurements we have worked with previously, these instruments measure the attenuation of light due to aerosols as it passes through the atmosphere.\n",
        "![AERONET On top of building](https://pkpeterson.github.io/images/pandora_aeronet.jpg)\n",
        "\n",
        "First we will import data from our site using code provided by Petar Grigorov and Pawan Gupta (NASA AERONET)"
      ]
    },
    {
      "cell_type": "code",
      "execution_count": 15,
      "id": "3c5530b3",
      "metadata": {
        "colab": {
          "base_uri": "https://localhost:8080/"
        },
        "id": "3c5530b3",
        "outputId": "ebcf31b6-5dd8-433f-9abd-8d3f63c38443"
      },
      "outputs": [
        {
          "output_type": "stream",
          "name": "stdout",
          "text": [
            "['AERONET_Site', 'Date(dd:mm:yyyy)', 'Time(hh:mm:ss)', 'Day_of_Year', 'Day_of_Year(Fraction)', 'AOD_1640nm', 'AOD_1020nm', 'AOD_870nm', 'AOD_865nm', 'AOD_779nm', 'AOD_675nm', 'AOD_667nm', 'AOD_620nm', 'AOD_560nm', 'AOD_555nm', 'AOD_551nm', 'AOD_532nm', 'AOD_531nm', 'AOD_510nm', 'AOD_500nm', 'AOD_490nm', 'AOD_443nm', 'AOD_440nm', 'AOD_412nm', 'AOD_400nm', 'AOD_380nm', 'AOD_340nm', 'Precipitable_Water(cm)', 'AOD_681nm', 'AOD_709nm', 'AOD_Empty', 'AOD_Empty.1', 'AOD_Empty.2', 'AOD_Empty.3', 'AOD_Empty.4', 'Triplet_Variability_1640', 'Triplet_Variability_1020', 'Triplet_Variability_870', 'Triplet_Variability_865', 'Triplet_Variability_779', 'Triplet_Variability_675', 'Triplet_Variability_667', 'Triplet_Variability_620', 'Triplet_Variability_560', 'Triplet_Variability_555', 'Triplet_Variability_551', 'Triplet_Variability_532', 'Triplet_Variability_531', 'Triplet_Variability_510', 'Triplet_Variability_500', 'Triplet_Variability_490', 'Triplet_Variability_443', 'Triplet_Variability_440', 'Triplet_Variability_412', 'Triplet_Variability_400', 'Triplet_Variability_380', 'Triplet_Variability_340', 'Triplet_Variability_Precipitable_Water(cm)', 'Triplet_Variability_681', 'Triplet_Variability_709', 'Triplet_Variability_AOD_Empty', 'Triplet_Variability_AOD_Empty.1', 'Triplet_Variability_AOD_Empty.2', 'Triplet_Variability_AOD_Empty.3', 'Triplet_Variability_AOD_Empty.4', '440-870_Angstrom_Exponent', '380-500_Angstrom_Exponent', '440-675_Angstrom_Exponent', '500-870_Angstrom_Exponent', '340-440_Angstrom_Exponent', '440-675_Angstrom_Exponent[Polar]', 'Data_Quality_Level', 'AERONET_Instrument_Number', 'AERONET_Site_Name', 'Site_Latitude(Degrees)', 'Site_Longitude(Degrees)', 'Site_Elevation(m)', 'Solar_Zenith_Angle(Degrees)', 'Optical_Air_Mass', 'Sensor_Temperature(Degrees_C)', 'Ozone(Dobson)', 'NO2(Dobson)', 'Last_Date_Processed', 'Number_of_Wavelengths', 'Exact_Wavelengths_of_AOD(um)_1640nm', 'Exact_Wavelengths_of_AOD(um)_1020nm', 'Exact_Wavelengths_of_AOD(um)_870nm', 'Exact_Wavelengths_of_AOD(um)_865nm', 'Exact_Wavelengths_of_AOD(um)_779nm', 'Exact_Wavelengths_of_AOD(um)_675nm', 'Exact_Wavelengths_of_AOD(um)_667nm', 'Exact_Wavelengths_of_AOD(um)_620nm', 'Exact_Wavelengths_of_AOD(um)_560nm', 'Exact_Wavelengths_of_AOD(um)_555nm', 'Exact_Wavelengths_of_AOD(um)_551nm', 'Exact_Wavelengths_of_AOD(um)_532nm', 'Exact_Wavelengths_of_AOD(um)_531nm', 'Exact_Wavelengths_of_AOD(um)_510nm', 'Exact_Wavelengths_of_AOD(um)_500nm', 'Exact_Wavelengths_of_AOD(um)_490nm', 'Exact_Wavelengths_of_AOD(um)_443nm', 'Exact_Wavelengths_of_AOD(um)_440nm', 'Exact_Wavelengths_of_AOD(um)_412nm', 'Exact_Wavelengths_of_AOD(um)_400nm', 'Exact_Wavelengths_of_AOD(um)_380nm', 'Exact_Wavelengths_of_AOD(um)_340nm', 'Exact_Wavelengths_of_PW(um)_935nm', 'Exact_Wavelengths_of_AOD(um)_681nm', 'Exact_Wavelengths_of_AOD(um)_709nm', 'Exact_Wavelengths_of_AOD(um)_Empty', 'Exact_Wavelengths_of_AOD(um)_Empty.1', 'Exact_Wavelengths_of_AOD(um)_Empty.2', 'Exact_Wavelengths_of_AOD(um)_Empty.3', 'Exact_Wavelengths_of_AOD(um)_Empty.4']\n"
          ]
        },
        {
          "output_type": "stream",
          "name": "stderr",
          "text": [
            "<ipython-input-15-7ac2053328fb>:26: FutureWarning: The default value of numeric_only in DataFrameGroupBy.median is deprecated. In a future version, numeric_only will default to False. Either specify numeric_only or select only columns which should be valid for the function.\n",
            "  aeronet= df.groupby(['Date']).median()['AOD_500nm']\n"
          ]
        }
      ],
      "source": [
        "url='https://aeronet.gsfc.nasa.gov/cgi-bin/print_web_data_v3?site=WC_Whittier_CA&year=2023&month=05&day=01&year2=2024&month2=02&day2=01&AOD15=1&AVG=10'\n",
        "\n",
        "soup = BeautifulSoup(requests.get(url).text) #web services contents are read here from URL\n",
        "\n",
        "if len(soup) <= 1:                    #alerts the user if the data cannot be read due to improper parameter inputs\n",
        "  print(\"\\nThe link could not be generated due to issues with the input. Please try again.\")\n",
        "\n",
        "\"\"\"**Read and filter downloaded data as per user average type specification**\"\"\"\n",
        "\n",
        "with open(r'time_series_WC.txt' ,\"w\") as oFile:          #writes the data scraped from \"beautiful soup\" to a text file on your local Google drive\n",
        "    oFile.write(str(soup.text))\n",
        "    oFile.close()\n",
        "\n",
        "\n",
        "\n",
        "#%%%%%\n",
        "df = pd.read_csv(r'/content/time_series_WC.txt',skiprows = 5)     #loads the csv data into a Pandas dataframe\n",
        "#list variables\n",
        "print(list(df))\n",
        "#%%\n",
        "\"\"\"**Read and filter downloaded data to parse dates and select only 500 nm AOD**\"\"\"\n",
        "\n",
        "df['Date']= pd.to_datetime(df['Date(dd:mm:yyyy)']+'-'+df['Time(hh:mm:ss)'],format='%d:%m:%Y-%H:%M:%S')\n",
        "df = df.dropna().reset_index(drop=True) #Drops NaN or -999.0 values\n",
        "\n",
        "# Preserves original resolution, you can resample if desired\n",
        "aeronet= df.groupby(['Date']).median()['AOD_500nm']\n",
        "\n"
      ]
    },
    {
      "cell_type": "markdown",
      "id": "5850b7a2",
      "metadata": {
        "id": "5850b7a2"
      },
      "source": [
        "Next we want to plot the time series of these data and compare it with data from the closest AQS measurements (Anaheim). Do so in the cell below. Some things to think about.\n",
        "\n",
        "    1. How do these measurements compare? Are they correlated?\n",
        "    2. Would you expect these measurements to be correlated? Why or why not?\n",
        "    3. The AERONET data have more gaps than the in situ measurements. why do you think this is?"
      ]
    },
    {
      "cell_type": "code",
      "execution_count": null,
      "id": "a26b5c6d",
      "metadata": {
        "id": "a26b5c6d"
      },
      "outputs": [],
      "source": []
    }
  ],
  "metadata": {
    "kernelspec": {
      "display_name": "Python 3 (ipykernel)",
      "language": "python",
      "name": "python3"
    },
    "language_info": {
      "codemirror_mode": {
        "name": "ipython",
        "version": 3
      },
      "file_extension": ".py",
      "mimetype": "text/x-python",
      "name": "python",
      "nbconvert_exporter": "python",
      "pygments_lexer": "ipython3",
      "version": "3.10.13"
    },
    "colab": {
      "provenance": []
    }
  },
  "nbformat": 4,
  "nbformat_minor": 5
}